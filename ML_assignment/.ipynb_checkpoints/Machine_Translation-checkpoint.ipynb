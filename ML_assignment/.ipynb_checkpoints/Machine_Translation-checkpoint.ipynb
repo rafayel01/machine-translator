{
 "cells": [
  {
   "cell_type": "markdown",
   "metadata": {
    "collapsed": true,
    "jupyter": {
     "outputs_hidden": true
    }
   },
   "source": [
    "\n",
    "\n",
    "# Machine Translation with Seq2Seq and Transformers\n",
    "In this exercise you will implement a [Sequence to Sequence(Seq2Seq)](https://arxiv.org/abs/1703.03906) and a [Transformer](https://arxiv.org/pdf/1706.03762.pdf) model and use them to perform machine translation.\n",
    "\n",
    "**A quick note: if you receive the following TypeError \"super(type, obj): obj must be an instance or subtype of type\", try re-importing that part or restarting your kernel and re-running all cells.** Once you have finished making changes to the model constuctor, you can avoid this issue by commenting out all of the model instantiations after the first (e.g. lines starting with \"model = TransformerTranslator(*args, **kwargs)\")."
   ]
  },
  {
   "cell_type": "code",
   "execution_count": 1,
   "metadata": {},
   "outputs": [],
   "source": [
    "import numpy as np\n",
    "import csv\n",
    "import torch\n",
    "from IPython.display import Image\n",
    "\n",
    "# for auto-reloading external modules\n",
    "# see http://stackoverflow.com/questions/1907993/autoreload-of-modules-in-ipython\n",
    "%load_ext autoreload\n",
    "%autoreload 2"
   ]
  },
  {
   "cell_type": "markdown",
   "metadata": {},
   "source": [
    "# ** 1: Introduction**\n",
    "\n",
    "## Multi30K: Multilingual English-German Image Descriptions\n",
    "\n",
    "[Multi30K](https://github.com/multi30k/dataset) is a dataset for machine translation tasks. It is a multilingual corpus containing English sentences and their German translation. In total it contains 31014 sentences(29000 for training, 1014 for validation, and 1000 for testing).\n",
    "As one example:\n",
    "\n",
    "En: `Two young, White males are outside near many bushes.`\n",
    "\n",
    "De: `Zwei junge weiße Männer sind im Freien in der Nähe vieler Büsche.`\n",
    "\n",
    "You can read more info about the dataset [here](https://arxiv.org/abs/1605.00459). The following parts of this assignment will be based on this dataset.\n",
    "\n",
    "## TorchText: A PyTorch Toolkit for Text Dataset and NLP Tasks\n",
    "[TorchText](https://github.com/pytorch/text) is a PyTorch package that consists of data processing utilities and popular datasets for natural language. The key idea of TorchText is that datasets can be organized in *Field*, *TranslationDataset*, and *BucketIterator* classes. They serve to help with data splitting and loading, token encoding, sequence padding, etc. You don't need to know about how TorchText works in detail, but you might want to know about why those classes are needed and what operations are necessary for machine translation. This knowledge can be migrated to all sequential data modeling. In the following parts, we will provide you with some code to help you understand.\n",
    "\n",
    " You can refer to torchtext's documentation(v0.9.0) [here](https://pytorch.org/text/).\n",
    "\n",
    "## Spacy\n",
    "Spacy is package designed for tokenization in many languages. Tokenization is a process of splitting raw text data into lists of tokens that can be further processed. Since TorchText only provides tokenizer for English, we will be using Spacy for our assignment. \n",
    "\n",
    "\n",
    "**Notice: For the following assignment, we strongly recommend you to work in a virtual python environment. We recommend Anaconda, a powerful environment control tool. You can download it [here](https://www.anaconda.com/products/individual)**."
   ]
  },
  {
   "cell_type": "markdown",
   "metadata": {},
   "source": [
    "## ** 1.1: Prerequisites**\n",
    "Before you start this assignment, you need to have all required packages installed either on the terminal you are using, or in the virtual environment. Please make sure you have the following package installed:\n",
    "\n",
    "`PyTorch, TorchText, Spacy, Tqdm, Numpy`\n",
    "\n",
    "You can first check using either `pip freeze` in terminal or `conda list` in conda environment. Then run the following code block to make sure they can be imported."
   ]
  },
  {
   "cell_type": "code",
   "execution_count": 2,
   "metadata": {
    "tags": []
   },
   "outputs": [],
   "source": [
    "# Just run this block. Please do not modify the following code.\n",
    "import math\n",
    "import time\n",
    "\n",
    "# Pytorch package\n",
    "import torch\n",
    "import torch.nn as nn\n",
    "import torch.optim as optim\n",
    "\n",
    "# Torchtest package\n",
    "from torchtext.datasets import Multi30k\n",
    "from torchtext.data import Field, BucketIterator\n",
    "\n",
    "# Tqdm progress bar\n",
    "from tqdm import tqdm_notebook, tqdm\n",
    "\n",
    "# Code provide to you for training and evaluation\n",
    "from utils import train, evaluate, set_seed_nb, unit_test_values, deterministic_init"
   ]
  },
  {
   "cell_type": "markdown",
   "metadata": {},
   "source": [
    "Once you properly import the above packages, you can proceed to download Spacy English and German tokenizers by running the following command in your **terminal**. They will take some time.\n",
    "\n",
    "`python -m spacy download en`\n",
    "\n",
    "`python -m spacy download de`"
   ]
  },
  {
   "cell_type": "markdown",
   "metadata": {},
   "source": [
    "Now lets check your GPU availability and load some sanity checkers. By default you should be using your gpu for this assignment if you have one available."
   ]
  },
  {
   "cell_type": "code",
   "execution_count": 3,
   "metadata": {
    "tags": []
   },
   "outputs": [
    {
     "name": "stdout",
     "output_type": "stream",
     "text": [
      "You are using device: cpu\n"
     ]
    }
   ],
   "source": [
    "# Check device availability\n",
    "device = 'cpu' # torch.device('cuda' if torch.cuda.is_available() else 'cpu')\n",
    "print(\"You are using device: %s\" % device)"
   ]
  },
  {
   "cell_type": "code",
   "execution_count": 4,
   "metadata": {},
   "outputs": [],
   "source": [
    "# load checkers\n",
    "d1 = torch.load('./data/d1.pt')\n",
    "d2 = torch.load('./data/d2.pt')\n",
    "d3 = torch.load('./data/d3.pt')\n",
    "d4 = torch.load('./data/d4.pt')"
   ]
  },
  {
   "cell_type": "markdown",
   "metadata": {},
   "source": [
    "## **1.2: Preprocess Data**\n",
    "With TorchText and Spacy tokenizers ready, you can now prepare the data using *TorchText* objects. Just run the following code blocks. Read the comment and try to understand what they are for."
   ]
  },
  {
   "cell_type": "code",
   "execution_count": 5,
   "metadata": {
    "tags": []
   },
   "outputs": [
    {
     "name": "stderr",
     "output_type": "stream",
     "text": [
      "/home/rafayel/Venv/ml-assignment-3/lib/python3.9/site-packages/torchtext/data/field.py:150: UserWarning: Field class will be retired soon and moved to torchtext.legacy. Please see the most recent release notes for further information.\n",
      "  warnings.warn('{} class will be retired soon and moved to torchtext.legacy. Please see the most recent release notes for further information.'.format(self.__class__.__name__), UserWarning)\n",
      "/home/rafayel/Venv/ml-assignment-3/lib/python3.9/site-packages/torchtext/data/field.py:150: UserWarning: Field class will be retired soon and moved to torchtext.legacy. Please see the most recent release notes for further information.\n",
      "  warnings.warn('{} class will be retired soon and moved to torchtext.legacy. Please see the most recent release notes for further information.'.format(self.__class__.__name__), UserWarning)\n",
      "/home/rafayel/Venv/ml-assignment-3/lib/python3.9/site-packages/torchtext/data/example.py:78: UserWarning: Example class will be retired soon and moved to torchtext.legacy. Please see the most recent release notes for further information.\n",
      "  warnings.warn('Example class will be retired soon and moved to torchtext.legacy. Please see the most recent release notes for further information.', UserWarning)\n"
     ]
    }
   ],
   "source": [
    "# You don't need to modify any code in this block\n",
    "\n",
    "# Define the maximum length of the sentence. Shorter sentences will be padded to that length and longer sentences will be croped. Given that the average length of the sentence in the corpus is around 13, we can set it to 20\n",
    "MAX_LEN = 20\n",
    "Multi30k.urls = ['https://raw.githubusercontent.com/neychev/small_DL_repo/master/datasets/Multi30k/training.tar.gz',\n",
    "'https://raw.githubusercontent.com/neychev/small_DL_repo/master/datasets/Multi30k/validation.tar.gz',\n",
    "'https://raw.githubusercontent.com/neychev/small_DL_repo/master/datasets/Multi30k/mmt_task1_test2016.tar.gz']\n",
    "\n",
    "# Define the source and target language\n",
    "SRC = Field(tokenize = \"spacy\",\n",
    "            tokenizer_language=\"de\",\n",
    "            init_token = '<sos>',\n",
    "            eos_token = '<eos>',\n",
    "            fix_length = MAX_LEN,\n",
    "            lower = True)\n",
    "\n",
    "TRG = Field(tokenize = \"spacy\",\n",
    "            tokenizer_language=\"en\",\n",
    "            init_token = '<sos>',\n",
    "            eos_token = '<eos>',\n",
    "            fix_length = MAX_LEN,\n",
    "            lower = True)\n",
    "\n",
    "# Download and split the data. It should take some time\n",
    "train_data, valid_data, test_data = Multi30k.splits(exts = ('.de', '.en'),\n",
    "                                                    fields = (SRC, TRG),root='data')"
   ]
  },
  {
   "cell_type": "code",
   "execution_count": 6,
   "metadata": {},
   "outputs": [
    {
     "name": "stderr",
     "output_type": "stream",
     "text": [
      "/home/rafayel/Venv/ml-assignment-3/lib/python3.9/site-packages/torchtext/data/iterator.py:48: UserWarning: BucketIterator class will be retired soon and moved to torchtext.legacy. Please see the most recent release notes for further information.\n",
      "  warnings.warn('{} class will be retired soon and moved to torchtext.legacy. Please see the most recent release notes for further information.'.format(self.__class__.__name__), UserWarning)\n"
     ]
    }
   ],
   "source": [
    "# Define Batchsize\n",
    "BATCH_SIZE = 128\n",
    "\n",
    "# Build the vocabulary associated with each language\n",
    "SRC.build_vocab(train_data, min_freq = 2)\n",
    "TRG.build_vocab(train_data, min_freq = 2)\n",
    "\n",
    "# Get the padding index to be ignored later in loss calculation\n",
    "PAD_IDX = TRG.vocab.stoi['<pad>']\n",
    "\n",
    "# Get data-loaders using BucketIterator\n",
    "train_loader, valid_loader, test_loader = BucketIterator.splits(\n",
    "    (train_data, valid_data, test_data),\n",
    "    batch_size = BATCH_SIZE, device = device)\n",
    "\n",
    "# Get the input and the output sizes for model\n",
    "input_size = len(SRC.vocab)\n",
    "output_size = len(TRG.vocab)"
   ]
  },
  {
   "cell_type": "markdown",
   "metadata": {},
   "source": [
    "# **2: Implement Vanilla RNN and LSTM**\n",
    "In this section, you will need to implement a Vanilla RNN and an LSTM unit using PyTorch Linear layers and nn.Parameter. This is designed to help you to understand how they work behind the scene. The code you will be working with is in *LSTM.py* and *RNN.py* under *naive* folder. Please refer to instructions among this notebook and those files. \n"
   ]
  },
  {
   "cell_type": "markdown",
   "metadata": {},
   "source": [
    "## **2.1: Implement an RNN Unit**\n",
    "In this section you will be using PyTorch Linear layers and activations to implement a vanilla RNN unit. You are only implementing an RNN cell unit over one time step! The test case reflects this by having only one sequence. Please refer to the following structure and complete the code in RNN.py:"
   ]
  },
  {
   "cell_type": "code",
   "execution_count": 7,
   "metadata": {},
   "outputs": [
    {
     "data": {
      "image/png": "[encoded data removed]",
      "text/plain": [
       "<IPython.core.display.Image object>"
      ]
     },
     "execution_count": 7,
     "metadata": {
      "image/png": {
       "height": 602,
       "width": 442
      }
     },
     "output_type": "execute_result"
    }
   ],
   "source": [
    "Image (filename=\"imgs/RNN.png\", retina=True)"
   ]
  },
  {
   "cell_type": "markdown",
   "metadata": {},
   "source": [
    "Run the following block to check your implementation"
   ]
  },
  {
   "cell_type": "code",
   "execution_count": 8,
   "metadata": {
    "tags": []
   },
   "outputs": [
    {
     "name": "stdout",
     "output_type": "stream",
     "text": [
      "Close to out:  True\n",
      "Close to hidden:  True\n"
     ]
    }
   ],
   "source": [
    "from models.naive.RNN import VanillaRNN\n",
    "\n",
    "x1,x2 = (1,4), (-1,2)\n",
    "h1,h2 = (-1,2,0,4), (0,1,3,-1)\n",
    "batch = 4\n",
    "x = torch.FloatTensor(np.linspace(x1,x2,batch))\n",
    "h = torch.FloatTensor(np.linspace(h1,h2,batch))\n",
    "rnn = VanillaRNN(x.shape[-1], h.shape[-1], 3)\n",
    "\n",
    "expected_out, expected_hidden = unit_test_values('rnn')\n",
    "\n",
    "deterministic_init(rnn)\n",
    "out, hidden = rnn.forward(x,h)\n",
    "\n",
    "if out is not None:\n",
    "    print('Close to out: ', expected_out.allclose(out, atol=1e-4))\n",
    "    print('Close to hidden: ', expected_hidden.allclose(hidden, atol=1e-4))\n",
    "else:\n",
    "    print(\"NOT IMPLEMENTED\")"
   ]
  },
  {
   "cell_type": "markdown",
   "metadata": {},
   "source": [
    "## **2.2: Implement an LSTM Unit**\n",
    "In this section you will be using PyTorch nn.Parameter and activations to implement an LSTM unit. You can simply translate the following equations using nn.Parameter and PyTorch activation functions to build an LSTM from scratch: \n",
    "\\begin{array}{ll} \\\\\n",
    "    i_t = \\sigma(W_{ii} x_t + b_{ii} + W_{hi} h_{t-1} + b_{hi}) \\\\\n",
    "    f_t = \\sigma(W_{if} x_t + b_{if} + W_{hf} h_{t-1} + b_{hf}) \\\\\n",
    "    g_t = \\tanh(W_{ig} x_t + b_{ig} + W_{hg} h_{t-1} + b_{hg}) \\\\\n",
    "    o_t = \\sigma(W_{io} x_t + b_{io} + W_{ho} h_{t-1} + b_{ho}) \\\\\n",
    "    c_t = f_t \\odot c_{t-1} + i_t \\odot g_t \\\\\n",
    "    h_t = o_t \\odot \\tanh(c_t) \\\\\n",
    "\\end{array}\n",
    "\n",
    "Here's a great visualization of the above equation from [Colah's blog](https://colah.github.io/posts/2015-08-Understanding-LSTMs/) to help you understand LSTM unit. You can also read more about it from that blog."
   ]
  },
  {
   "cell_type": "code",
   "execution_count": 9,
   "metadata": {},
   "outputs": [
    {
     "data": {
      "image/png": "[encoded data removed]",
      "text/plain": [
       "<IPython.core.display.Image object>"
      ]
     },
     "execution_count": 9,
     "metadata": {
      "image/png": {
       "height": 335,
       "width": 431
      }
     },
     "output_type": "execute_result"
    }
   ],
   "source": [
    "Image (filename=\"imgs/lstm.png\", retina=True)"
   ]
  },
  {
   "cell_type": "markdown",
   "metadata": {},
   "source": [
    "If you want to see nn.Parameter in example, check out this [tutorial](https://pytorch.org/tutorials/beginner/nn_tutorial.html) from PyTorch. Run the following block to check your implementation.\n",
    "\n",
    "Note that in this case we are implementing a full loop with LSTM, iterating over each time step. The test cases reflect this as there are multiple sequences."
   ]
  },
  {
   "cell_type": "code",
   "execution_count": 10,
   "metadata": {
    "tags": []
   },
   "outputs": [
    {
     "name": "stdout",
     "output_type": "stream",
     "text": [
      "Close to h_t:  True\n",
      "Close to c_t;  True\n"
     ]
    }
   ],
   "source": [
    "from models.naive.LSTM import LSTM\n",
    "\n",
    "set_seed_nb()\n",
    "x1,x2 = np.mgrid[-1:3:3j, -1:4:2j]\n",
    "h1,h2 = np.mgrid[-2:2:3j, 1:3:4j]\n",
    "batch = 4\n",
    "x = torch.FloatTensor(np.linspace(x1,x2,batch))\n",
    "h = torch.FloatTensor(np.linspace(h1,h2,batch))\n",
    "\n",
    "expected_ht, expected_ct = unit_test_values('lstm')\n",
    "\n",
    "lstm = LSTM(x.shape[-1], h.shape[-1])\n",
    "deterministic_init(lstm)\n",
    "h_t, c_t = lstm.forward(x)\n",
    "\n",
    "if h_t is not None:\n",
    "    print('Close to h_t: ', expected_ht.allclose(h_t, atol=1e-4))\n",
    "    print('Close to c_t; ', expected_ct.allclose(c_t, atol=1e-4))\n",
    "else:\n",
    "    print(\"NOT IMPLEMENTED\")"
   ]
  },
  {
   "cell_type": "markdown",
   "metadata": {},
   "source": [
    "# **3: Train a Seq2Seq Model**\n",
    "In this section, you will be working on implementing a simple Seq2Seq model. You will first implement an Encoder and a Decoder, and then join them together with a Seq2Seq architecture. You will need to complete the code in *Decoder.py*, *Encoder.py*, and *Seq2Seq.py* under *seq2seq* folder. Please refer to the instructions in those files."
   ]
  },
  {
   "cell_type": "markdown",
   "metadata": {},
   "source": [
    "## **3.1: Implement the Encoder**\n",
    "In this section you will be implementing an RNN/LSTM based encoder to model English texts. Please refer to the instructions in *seq2seq/Encoder.py*. Run the following block to check your implementation. "
   ]
  },
  {
   "cell_type": "code",
   "execution_count": 11,
   "metadata": {},
   "outputs": [
    {
     "name": "stdout",
     "output_type": "stream",
     "text": [
      "Python 3.9.19\n"
     ]
    }
   ],
   "source": [
    "!python -V"
   ]
  },
  {
   "cell_type": "code",
   "execution_count": 12,
   "metadata": {},
   "outputs": [
    {
     "name": "stdout",
     "output_type": "stream",
     "text": [
      "self.input_size = 10\n",
      "x = tensor([[4],\n",
      "        [7],\n",
      "        [0],\n",
      "        [3],\n",
      "        [1]])\n",
      "Close to out:  False\n",
      "Close to hidden:  False\n"
     ]
    }
   ],
   "source": [
    "from models.seq2seq.Encoder import Encoder\n",
    "\n",
    "set_seed_nb()\n",
    "i, n, h = 10, 4, 2\n",
    "\n",
    "encoder = Encoder(i, n, h, h)\n",
    "x_array = np.random.rand(5,1) * 10\n",
    "x = torch.LongTensor(x_array)\n",
    "print(f\"{x = }\")\n",
    "out, hidden = encoder.forward(x)\n",
    "\n",
    "expected_out, expected_hidden = unit_test_values('encoder')\n",
    "\n",
    "print('Close to out: ', expected_out.allclose(out, atol=1e-4))\n",
    "print('Close to hidden: ', expected_hidden.allclose(hidden, atol=1e-4))"
   ]
  },
  {
   "cell_type": "code",
   "execution_count": 13,
   "metadata": {},
   "outputs": [
    {
     "name": "stdout",
     "output_type": "stream",
     "text": [
      "Output shape: torch.Size([32, 10, 2])\n",
      "Hidden shape: torch.Size([32, 2])\n"
     ]
    }
   ],
   "source": [
    "import torch\n",
    "import torch.nn as nn\n",
    "\n",
    "class RNNEncoder(nn.Module):\n",
    "    def __init__(self, input_size, hidden_size, num_layers, model_type=\"RNN\"):\n",
    "        super(RNNEncoder, self).__init__()\n",
    "\n",
    "        self.input_size = input_size\n",
    "        self.hidden_size = hidden_size\n",
    "        self.num_layers = num_layers\n",
    "        self.model_type = model_type\n",
    "\n",
    "        # Initialize the RNN layer based on the model type\n",
    "        if model_type == \"RNN\":\n",
    "            self.rnn = nn.RNN(input_size, hidden_size, num_layers=num_layers, batch_first=True)\n",
    "        elif model_type == \"LSTM\":\n",
    "            self.rnn = nn.LSTM(input_size, hidden_size, num_layers=num_layers, batch_first=True)\n",
    "\n",
    "    def forward(self, x):\n",
    "        # Forward pass through the RNN layer\n",
    "        output, hidden = self.rnn(x)\n",
    "\n",
    "        return output, hidden\n",
    "\n",
    "# Example usage\n",
    "input_size = 10\n",
    "hidden_size = 2\n",
    "num_layers = 1\n",
    "model_type = \"RNN\"  # or \"LSTM\"\n",
    "\n",
    "# Initialize the encoder RNN module\n",
    "encoder_rnn = RNNEncoder(input_size, hidden_size, num_layers, model_type)\n",
    "\n",
    "# Generate some dummy input\n",
    "batch_size = 32\n",
    "sequence_length = 10\n",
    "input_tensor = torch.randn(batch_size, sequence_length, input_size)\n",
    "\n",
    "# Forward pass through the encoder RNN module\n",
    "output, hidden = encoder_rnn(input_tensor)\n",
    "\n",
    "# Output shape: (batch_size, sequence_length, hidden_size)\n",
    "print(\"Output shape:\", output.shape)\n",
    "# Hidden shape: (num_layers, batch_size, hidden_size)\n",
    "print(\"Hidden shape:\", hidden[0].shape)  # For RNN, LSTM"
   ]
  },
  {
   "cell_type": "markdown",
   "metadata": {},
   "source": [
    "## **3.2: Implement the Decoder**\n",
    "In this section you will be implementing an RNN/LSTM based decoder to model German texts. Please refer to the instructions in *seq2seq/Decoder.py*. Run the following block to check your implementation. "
   ]
  },
  {
   "cell_type": "code",
   "execution_count": 14,
   "metadata": {},
   "outputs": [
    {
     "name": "stdout",
     "output_type": "stream",
     "text": [
      "hidden = tensor([[[-0.1854,  0.5561],\n",
      "         [-0.7422,  0.4792],\n",
      "         [-0.0992, -0.3700],\n",
      "         [ 0.3417,  0.3684],\n",
      "         [ 0.3513,  0.4833],\n",
      "         [-0.6055,  0.0164],\n",
      "         [-0.0265,  0.2217],\n",
      "         [ 0.9221,  0.8724],\n",
      "         [ 0.9429,  0.8276],\n",
      "         [-0.2960,  0.8641],\n",
      "         [-0.1854,  0.5561],\n",
      "         [ 0.5798,  0.9400],\n",
      "         [-0.7558, -0.1164],\n",
      "         [ 0.5754,  0.8913],\n",
      "         [-0.5635,  0.1317],\n",
      "         [ 0.8807,  0.8305],\n",
      "         [-0.1854,  0.5561],\n",
      "         [-0.3343,  0.8433],\n",
      "         [-0.0205,  0.2322],\n",
      "         [ 0.0372,  0.3287],\n",
      "         [ 0.5714,  0.8890],\n",
      "         [-0.6750,  0.8677],\n",
      "         [ 0.9446,  0.8362],\n",
      "         [ 0.5838,  0.9412],\n",
      "         [ 0.6128,  0.9109],\n",
      "         [ 0.5714,  0.8890],\n",
      "         [ 0.1721,  0.4700],\n",
      "         [-0.0992, -0.3700],\n",
      "         [-0.0205,  0.2322],\n",
      "         [ 0.6128,  0.9109],\n",
      "         [-0.1203, -0.4033],\n",
      "         [ 0.0539,  0.4157]]], grad_fn=<StackBackward>), hidden.shape = torch.Size([1, 32, 2])\n"
     ]
    },
    {
     "ename": "RuntimeError",
     "evalue": "The size of tensor a (5) must match the size of tensor b (32) at non-singleton dimension 0",
     "output_type": "error",
     "traceback": [
      "\u001b[0;31m---------------------------------------------------------------------------\u001b[0m",
      "\u001b[0;31mRuntimeError\u001b[0m                              Traceback (most recent call last)",
      "Cell \u001b[0;32mIn[14], line 46\u001b[0m\n\u001b[1;32m     44\u001b[0m expected_out, expected_hidden \u001b[38;5;241m=\u001b[39m unit_test_values(\u001b[38;5;124m'\u001b[39m\u001b[38;5;124mdecoder\u001b[39m\u001b[38;5;124m'\u001b[39m)\n\u001b[1;32m     45\u001b[0m \u001b[38;5;28mprint\u001b[39m(\u001b[38;5;124mf\u001b[39m\u001b[38;5;124m\"\u001b[39m\u001b[38;5;132;01m{\u001b[39;00mhidden\u001b[38;5;250m \u001b[39m\u001b[38;5;132;01m= }\u001b[39;00m\u001b[38;5;124m, \u001b[39m\u001b[38;5;132;01m{\u001b[39;00mhidden\u001b[38;5;241m.\u001b[39mshape\u001b[38;5;250m \u001b[39m\u001b[38;5;132;01m= }\u001b[39;00m\u001b[38;5;124m\"\u001b[39m)\n\u001b[0;32m---> 46\u001b[0m \u001b[38;5;28mprint\u001b[39m(\u001b[38;5;124m'\u001b[39m\u001b[38;5;124mClose to out: \u001b[39m\u001b[38;5;124m'\u001b[39m, \u001b[43mexpected_out\u001b[49m\u001b[38;5;241;43m.\u001b[39;49m\u001b[43mallclose\u001b[49m\u001b[43m(\u001b[49m\u001b[43mout\u001b[49m\u001b[43m,\u001b[49m\u001b[43m \u001b[49m\u001b[43matol\u001b[49m\u001b[38;5;241;43m=\u001b[39;49m\u001b[38;5;241;43m1e-4\u001b[39;49m\u001b[43m)\u001b[49m)\n\u001b[1;32m     47\u001b[0m \u001b[38;5;28mprint\u001b[39m(\u001b[38;5;124m'\u001b[39m\u001b[38;5;124mClose to hidden: \u001b[39m\u001b[38;5;124m'\u001b[39m, expected_hidden\u001b[38;5;241m.\u001b[39mallclose(hidden, atol\u001b[38;5;241m=\u001b[39m\u001b[38;5;241m1e-4\u001b[39m))\n",
      "\u001b[0;31mRuntimeError\u001b[0m: The size of tensor a (5) must match the size of tensor b (32) at non-singleton dimension 0"
     ]
    }
   ],
   "source": [
    "from models.seq2seq.Decoder import Decoder\n",
    "\n",
    "set_seed_nb()\n",
    "i, n, h =  10, 2, 2\n",
    "decoder = Decoder(h, n, n, i)\n",
    "x_array = np.random.rand(32, 1) * 10\n",
    "x = torch.LongTensor(x_array)\n",
    "#print(f\"{x = }\")\n",
    "#print(f\"{enc_hidden = }, {enc_hidden = }\")\n",
    "enc_hidden = torch.FloatTensor([[[0.4912, -0.6078],\n",
    "                                [0.4912, -0.6078],\n",
    "                                [0.4985, -0.6658],\n",
    "                                [0.4932, -0.6242],\n",
    "                                [0.4880, -0.7841],\n",
    "                                [0.4912, -0.6078],\n",
    "                                [0.4912, -0.6078],\n",
    "                                [0.4985, -0.6658],\n",
    "                                [0.4932, -0.6242],\n",
    "                                [0.4880, -0.7841],\n",
    "                                [0.4912, -0.6078],\n",
    "                                [0.4912, -0.6078],\n",
    "                                [0.4985, -0.6658],\n",
    "                                [0.4932, -0.6242],\n",
    "                                [0.4880, -0.7841],\n",
    "                                [0.4912, -0.6078],\n",
    "                                [0.4912, -0.6078],\n",
    "                                [0.4985, -0.6658],\n",
    "                                [0.4932, -0.6242],\n",
    "                                [0.4880, -0.7841],\n",
    "                                [0.4912, -0.6078],\n",
    "                                [0.4912, -0.6078],\n",
    "                                [0.4985, -0.6658],\n",
    "                                [0.4932, -0.6242],\n",
    "                                [0.4880, -0.7841],\n",
    "                                [0.4912, -0.6078],\n",
    "                                [0.4912, -0.6078],\n",
    "                                [0.4985, -0.6658],\n",
    "                                [0.4932, -0.6242],\n",
    "                                [0.4880, -0.7841],\n",
    "                                [0.4912, -0.6078],\n",
    "                                [0.4912, -0.6078]]]) #np.random.rand(32,2) * 10 # unit_test_values('encoder')\n",
    "out, hidden = decoder.forward(x,enc_hidden)\n",
    "\n",
    "expected_out, expected_hidden = unit_test_values('decoder')\n",
    "print(f\"{hidden = }, {hidden.shape = }\")\n",
    "print('Close to out: ', expected_out.allclose(out, atol=1e-4))\n",
    "print('Close to hidden: ', expected_hidden.allclose(hidden, atol=1e-4))"
   ]
  },
  {
   "cell_type": "markdown",
   "metadata": {},
   "source": [
    "## **3.3: Implement the Seq2Seq**\n",
    "In this section you will be implementing the Seq2Seq model that utilizes the Encoder and Decoder you implemented. Please refer to the instructions in *seq2seq/Seq2Seq.py*. Run the following block to check your implementation. "
   ]
  },
  {
   "cell_type": "code",
   "execution_count": null,
   "metadata": {},
   "outputs": [],
   "source": [
    "ddd"
   ]
  },
  {
   "cell_type": "code",
   "execution_count": 15,
   "metadata": {},
   "outputs": [
    {
     "name": "stdout",
     "output_type": "stream",
     "text": [
      "hidden = tensor([[[0., 0., 0., 0., 0., 0., 0., 0., 0., 0., 0., 0., 0., 0., 0., 0., 0., 0., 0., 0., 0., 0., 0.,\n",
      "          0., 0., 0., 0., 0., 0., 0., 0., 0., 0., 0., 0., 0., 0., 0., 0., 0., 0., 0., 0., 0., 0., 0.,\n",
      "          0., 0., 0., 0., 0., 0., 0., 0., 0., 0., 0., 0., 0., 0., 0., 0., 0., 0.],\n",
      "         [0., 0., 0., 0., 0., 0., 0., 0., 0., 0., 0., 0., 0., 0., 0., 0., 0., 0., 0., 0., 0., 0., 0.,\n",
      "          0., 0., 0., 0., 0., 0., 0., 0., 0., 0., 0., 0., 0., 0., 0., 0., 0., 0., 0., 0., 0., 0., 0.,\n",
      "          0., 0., 0., 0., 0., 0., 0., 0., 0., 0., 0., 0., 0., 0., 0., 0., 0., 0.]]]), hidden.shape = torch.Size([1, 2, 64])\n",
      "hidden = tensor([[[-0.3507,  0.1637, -0.2126, -0.1588,  0.0675, -0.1960,  0.2829,\n",
      "          -0.2677, -0.3297, -0.0970,  0.0058,  0.4355, -0.2901,  0.4647,\n",
      "           0.0265,  0.0910,  0.1900, -0.2025,  0.1211,  0.0934, -0.1989,\n",
      "           0.4015, -0.3771, -0.5298, -0.2255,  0.0172,  0.0348, -0.4980,\n",
      "           0.4871, -0.1420, -0.0471,  0.2563,  0.0887,  0.0254, -0.4433,\n",
      "          -0.0043,  0.2168, -0.4978,  0.2077,  0.2478, -0.3012, -0.2002,\n",
      "           0.1189, -0.4286, -0.0848, -0.3936, -0.2437, -0.1830,  0.0457,\n",
      "           0.2686,  0.1458, -0.5623, -0.0927, -0.3286, -0.2229,  0.4223,\n",
      "           0.0585, -0.1069, -0.0763, -0.2237, -0.0715, -0.1452,  0.3034,\n",
      "           0.1286],\n",
      "         [ 0.1668, -0.3658, -0.0630, -0.2209,  0.1925, -0.3165, -0.0344,\n",
      "          -0.2946, -0.1008,  0.6220,  0.0874,  0.2871,  0.1164, -0.2338,\n",
      "          -0.4186,  0.5696,  0.5330,  0.3104, -0.3360,  0.1880,  0.0261,\n",
      "          -0.6760,  0.0320,  0.0396, -0.1238,  0.2704, -0.5467,  0.4421,\n",
      "          -0.1735, -0.0379, -0.5697,  0.0253,  0.4277,  0.2363, -0.0764,\n",
      "          -0.4924,  0.0602,  0.2230, -0.4721, -0.1060,  0.7500, -0.0167,\n",
      "          -0.2670,  0.3492, -0.4397,  0.3425,  0.7110,  0.6895, -0.1044,\n",
      "           0.1496,  0.2940,  0.5253, -0.0784,  0.2513, -0.3820, -0.7558,\n",
      "           0.2711,  0.4495,  0.1267, -0.3459,  0.1772, -0.5249, -0.4564,\n",
      "          -0.3846]]], grad_fn=<StackBackward>), hidden.shape = torch.Size([1, 2, 64])\n"
     ]
    }
   ],
   "source": [
    "import torch\n",
    "import torch.nn as nn\n",
    "\n",
    "# Define the parameters\n",
    "input_size = 32\n",
    "hidden_size = 64\n",
    "num_layers = 1\n",
    "batch_size = 2  # Change the batch size to 2\n",
    "\n",
    "# Define the RNN\n",
    "rnn = nn.RNN(input_size, hidden_size, num_layers)\n",
    "\n",
    "# Initialize the hidden state with the desired batch size\n",
    "# Make sure to pass the appropriate device if using GPU\n",
    "hidden = torch.zeros(num_layers, batch_size, hidden_size)\n",
    "print(f\"{hidden = }, {hidden.shape = }\")\n",
    "# Example input tensor\n",
    "input_tensor = torch.randn(1, batch_size, input_size)\n",
    "\n",
    "# Forward pass\n",
    "output, hidden = rnn(input_tensor, hidden)\n",
    "print(f\"{hidden = }, {hidden.shape = }\")"
   ]
  },
  {
   "cell_type": "code",
   "execution_count": 16,
   "metadata": {},
   "outputs": [
    {
     "name": "stdout",
     "output_type": "stream",
     "text": [
      "self.input_size = 8\n",
      "Close to out:  False\n"
     ]
    }
   ],
   "source": [
    "from models.seq2seq.Seq2Seq import Seq2Seq\n",
    "\n",
    "set_seed_nb()\n",
    "embedding_size = 32\n",
    "hidden_size = 32\n",
    "input_size = 8\n",
    "output_size = 8\n",
    "batch, seq = 1, 2\n",
    "\n",
    "encoder = Encoder(input_size, embedding_size, hidden_size, hidden_size)\n",
    "decoder = Decoder(embedding_size, hidden_size, hidden_size, output_size)\n",
    "\n",
    "seq2seq = Seq2Seq(encoder, decoder, 'cpu')\n",
    "x_array = np.random.rand(batch, seq) * 10\n",
    "x = torch.LongTensor(x_array)\n",
    "out = seq2seq.forward(x)\n",
    "\n",
    "expected_out = unit_test_values('seq2seq')\n",
    "print('Close to out: ', expected_out.allclose(out, atol=1e-4))"
   ]
  },
  {
   "cell_type": "markdown",
   "metadata": {},
   "source": [
    "## **3.4: Train your Seq2Seq model**\n",
    "Now it's time to combine what we have and train a Seq2Seq translator. We provided you with some training code and you can simply run them to see how your translator works. If you implemented everything correctly, you should see some meaningful translation in the output. You can modify the hyperparameters to improve the results. You can also tune the BATCH_SIZE in section 1.2."
   ]
  },
  {
   "cell_type": "code",
   "execution_count": 17,
   "metadata": {},
   "outputs": [
    {
     "name": "stdout",
     "output_type": "stream",
     "text": [
      "7854\n",
      "5893\n"
     ]
    }
   ],
   "source": [
    "# Hyperparameters. You are welcome to modify these\n",
    "encoder_emb_size = 32\n",
    "encoder_hidden_size = 64\n",
    "encoder_dropout = 0.2\n",
    "\n",
    "decoder_emb_size = 32\n",
    "decoder_hidden_size = 64\n",
    "decoder_dropout = 0.2\n",
    "\n",
    "learning_rate = 1e-3\n",
    "model_type = \"LSTM\"\n",
    "\n",
    "EPOCHS = 10\n",
    "\n",
    "#input size and output size\n",
    "input_size = len(SRC.vocab)\n",
    "print(input_size)\n",
    "output_size = len(TRG.vocab)\n",
    "print(output_size)"
   ]
  },
  {
   "cell_type": "code",
   "execution_count": 18,
   "metadata": {
    "scrolled": true
   },
   "outputs": [
    {
     "name": "stdout",
     "output_type": "stream",
     "text": [
      "self.input_size = 7854\n"
     ]
    }
   ],
   "source": [
    "# Declare models, optimizer, and loss function\n",
    "encoder = Encoder(input_size, encoder_emb_size, encoder_hidden_size, decoder_hidden_size, dropout = encoder_dropout, model_type = model_type)\n",
    "decoder = Decoder(decoder_emb_size, encoder_hidden_size, encoder_hidden_size, output_size, dropout = decoder_dropout, model_type = model_type)\n",
    "seq2seq_model = Seq2Seq(encoder, decoder, device)\n",
    "\n",
    "optimizer = optim.Adam(seq2seq_model.parameters(), lr = learning_rate)\n",
    "scheduler = torch.optim.lr_scheduler.ReduceLROnPlateau(optimizer)\n",
    "criterion = nn.CrossEntropyLoss(ignore_index=PAD_IDX)"
   ]
  },
  {
   "cell_type": "code",
   "execution_count": 19,
   "metadata": {},
   "outputs": [
    {
     "name": "stdout",
     "output_type": "stream",
     "text": [
      "-----------------------------------\n",
      "Epoch 1\n",
      "-----------------------------------\n"
     ]
    },
    {
     "data": {
      "application/vnd.jupyter.widget-view+json": {
       "model_id": "900ece7ceb9a4c9b85cd6b2bc3840caa",
       "version_major": 2,
       "version_minor": 0
      },
      "text/plain": [
       "  0%|          | 0/227 [00:00<?, ?it/s]"
      ]
     },
     "metadata": {},
     "output_type": "display_data"
    },
    {
     "name": "stderr",
     "output_type": "stream",
     "text": [
      "/home/rafayel/Venv/ml-assignment-3/lib/python3.9/site-packages/torchtext/data/batch.py:23: UserWarning: Batch class will be retired soon and moved to torchtext.legacy. Please see the most recent release notes for further information.\n",
      "  warnings.warn('{} class will be retired soon and moved to torchtext.legacy. Please see the most recent release notes for further information.'.format(self.__class__.__name__), UserWarning)\n"
     ]
    },
    {
     "data": {
      "application/vnd.jupyter.widget-view+json": {
       "model_id": "b8f06d4dee52481c8be4e573b7f428d3",
       "version_major": 2,
       "version_minor": 0
      },
      "text/plain": [
       "  0%|          | 0/8 [00:00<?, ?it/s]"
      ]
     },
     "metadata": {},
     "output_type": "display_data"
    },
    {
     "name": "stdout",
     "output_type": "stream",
     "text": [
      "Training Loss: 5.4950. Validation Loss: 4.7323. \n",
      "Training Perplexity: 243.4633. Validation Perplexity: 113.5531. \n",
      "-----------------------------------\n",
      "Epoch 2\n",
      "-----------------------------------\n"
     ]
    },
    {
     "data": {
      "application/vnd.jupyter.widget-view+json": {
       "model_id": "fea8cf8cd1ad40c1949d24c7b6e929d6",
       "version_major": 2,
       "version_minor": 0
      },
      "text/plain": [
       "  0%|          | 0/227 [00:00<?, ?it/s]"
      ]
     },
     "metadata": {},
     "output_type": "display_data"
    },
    {
     "data": {
      "application/vnd.jupyter.widget-view+json": {
       "model_id": "6ab065d7f8e3453b847e5adbc706b889",
       "version_major": 2,
       "version_minor": 0
      },
      "text/plain": [
       "  0%|          | 0/8 [00:00<?, ?it/s]"
      ]
     },
     "metadata": {},
     "output_type": "display_data"
    },
    {
     "name": "stdout",
     "output_type": "stream",
     "text": [
      "Training Loss: 4.7522. Validation Loss: 4.5602. \n",
      "Training Perplexity: 115.8348. Validation Perplexity: 95.6051. \n",
      "-----------------------------------\n",
      "Epoch 3\n",
      "-----------------------------------\n"
     ]
    },
    {
     "data": {
      "application/vnd.jupyter.widget-view+json": {
       "model_id": "40a8b7accedd4e1bbdaa8ae15f34d7af",
       "version_major": 2,
       "version_minor": 0
      },
      "text/plain": [
       "  0%|          | 0/227 [00:00<?, ?it/s]"
      ]
     },
     "metadata": {},
     "output_type": "display_data"
    },
    {
     "data": {
      "application/vnd.jupyter.widget-view+json": {
       "model_id": "162d328325ea416ca048f8a71e4d41c8",
       "version_major": 2,
       "version_minor": 0
      },
      "text/plain": [
       "  0%|          | 0/8 [00:00<?, ?it/s]"
      ]
     },
     "metadata": {},
     "output_type": "display_data"
    },
    {
     "name": "stdout",
     "output_type": "stream",
     "text": [
      "Training Loss: 4.6232. Validation Loss: 4.4965. \n",
      "Training Perplexity: 101.8154. Validation Perplexity: 89.7039. \n",
      "-----------------------------------\n",
      "Epoch 4\n",
      "-----------------------------------\n"
     ]
    },
    {
     "data": {
      "application/vnd.jupyter.widget-view+json": {
       "model_id": "3d5db7e8e7f249cda6d0d1c9aa60f80e",
       "version_major": 2,
       "version_minor": 0
      },
      "text/plain": [
       "  0%|          | 0/227 [00:00<?, ?it/s]"
      ]
     },
     "metadata": {},
     "output_type": "display_data"
    },
    {
     "data": {
      "application/vnd.jupyter.widget-view+json": {
       "model_id": "ccb6c63421754f0982a017b57c22bae2",
       "version_major": 2,
       "version_minor": 0
      },
      "text/plain": [
       "  0%|          | 0/8 [00:00<?, ?it/s]"
      ]
     },
     "metadata": {},
     "output_type": "display_data"
    },
    {
     "name": "stdout",
     "output_type": "stream",
     "text": [
      "Training Loss: 4.5704. Validation Loss: 4.4589. \n",
      "Training Perplexity: 96.5811. Validation Perplexity: 86.3892. \n",
      "-----------------------------------\n",
      "Epoch 5\n",
      "-----------------------------------\n"
     ]
    },
    {
     "data": {
      "application/vnd.jupyter.widget-view+json": {
       "model_id": "084ecada1fad48cda8ea94fdeccaf11c",
       "version_major": 2,
       "version_minor": 0
      },
      "text/plain": [
       "  0%|          | 0/227 [00:00<?, ?it/s]"
      ]
     },
     "metadata": {},
     "output_type": "display_data"
    },
    {
     "data": {
      "application/vnd.jupyter.widget-view+json": {
       "model_id": "535f05238df5495392ae6edc26026fd6",
       "version_major": 2,
       "version_minor": 0
      },
      "text/plain": [
       "  0%|          | 0/8 [00:00<?, ?it/s]"
      ]
     },
     "metadata": {},
     "output_type": "display_data"
    },
    {
     "name": "stdout",
     "output_type": "stream",
     "text": [
      "Training Loss: 4.5370. Validation Loss: 4.4231. \n",
      "Training Perplexity: 93.4102. Validation Perplexity: 83.3558. \n",
      "-----------------------------------\n",
      "Epoch 6\n",
      "-----------------------------------\n"
     ]
    },
    {
     "data": {
      "application/vnd.jupyter.widget-view+json": {
       "model_id": "3ac6e6d109d54fa2a90bd02ebc5f4b04",
       "version_major": 2,
       "version_minor": 0
      },
      "text/plain": [
       "  0%|          | 0/227 [00:00<?, ?it/s]"
      ]
     },
     "metadata": {},
     "output_type": "display_data"
    },
    {
     "data": {
      "application/vnd.jupyter.widget-view+json": {
       "model_id": "41823c0d2615462f88b3366049743408",
       "version_major": 2,
       "version_minor": 0
      },
      "text/plain": [
       "  0%|          | 0/8 [00:00<?, ?it/s]"
      ]
     },
     "metadata": {},
     "output_type": "display_data"
    },
    {
     "name": "stdout",
     "output_type": "stream",
     "text": [
      "Training Loss: 4.5123. Validation Loss: 4.3878. \n",
      "Training Perplexity: 91.1321. Validation Perplexity: 80.4643. \n",
      "-----------------------------------\n",
      "Epoch 7\n",
      "-----------------------------------\n"
     ]
    },
    {
     "data": {
      "application/vnd.jupyter.widget-view+json": {
       "model_id": "74282ad1962548ebb53c668a5de76174",
       "version_major": 2,
       "version_minor": 0
      },
      "text/plain": [
       "  0%|          | 0/227 [00:00<?, ?it/s]"
      ]
     },
     "metadata": {},
     "output_type": "display_data"
    },
    {
     "data": {
      "application/vnd.jupyter.widget-view+json": {
       "model_id": "f805a89370d64f3e80892a553a8dc867",
       "version_major": 2,
       "version_minor": 0
      },
      "text/plain": [
       "  0%|          | 0/8 [00:00<?, ?it/s]"
      ]
     },
     "metadata": {},
     "output_type": "display_data"
    },
    {
     "name": "stdout",
     "output_type": "stream",
     "text": [
      "Training Loss: 4.4734. Validation Loss: 4.3535. \n",
      "Training Perplexity: 87.6504. Validation Perplexity: 77.7508. \n",
      "-----------------------------------\n",
      "Epoch 8\n",
      "-----------------------------------\n"
     ]
    },
    {
     "data": {
      "application/vnd.jupyter.widget-view+json": {
       "model_id": "67a1c19ab48643d9982f17a0dbf6b269",
       "version_major": 2,
       "version_minor": 0
      },
      "text/plain": [
       "  0%|          | 0/227 [00:00<?, ?it/s]"
      ]
     },
     "metadata": {},
     "output_type": "display_data"
    },
    {
     "data": {
      "application/vnd.jupyter.widget-view+json": {
       "model_id": "24c4f4d8d7734f34a5da90b83886852f",
       "version_major": 2,
       "version_minor": 0
      },
      "text/plain": [
       "  0%|          | 0/8 [00:00<?, ?it/s]"
      ]
     },
     "metadata": {},
     "output_type": "display_data"
    },
    {
     "name": "stdout",
     "output_type": "stream",
     "text": [
      "Training Loss: 4.4266. Validation Loss: 4.3136. \n",
      "Training Perplexity: 83.6430. Validation Perplexity: 74.7116. \n",
      "-----------------------------------\n",
      "Epoch 9\n",
      "-----------------------------------\n"
     ]
    },
    {
     "data": {
      "application/vnd.jupyter.widget-view+json": {
       "model_id": "8fa226fd258b46a5b3df33529ad4b090",
       "version_major": 2,
       "version_minor": 0
      },
      "text/plain": [
       "  0%|          | 0/227 [00:00<?, ?it/s]"
      ]
     },
     "metadata": {},
     "output_type": "display_data"
    },
    {
     "data": {
      "application/vnd.jupyter.widget-view+json": {
       "model_id": "e0a45fb343984e5982ea5b69cf56f193",
       "version_major": 2,
       "version_minor": 0
      },
      "text/plain": [
       "  0%|          | 0/8 [00:00<?, ?it/s]"
      ]
     },
     "metadata": {},
     "output_type": "display_data"
    },
    {
     "name": "stdout",
     "output_type": "stream",
     "text": [
      "Training Loss: 4.3919. Validation Loss: 4.2797. \n",
      "Training Perplexity: 80.7929. Validation Perplexity: 72.2189. \n",
      "-----------------------------------\n",
      "Epoch 10\n",
      "-----------------------------------\n"
     ]
    },
    {
     "data": {
      "application/vnd.jupyter.widget-view+json": {
       "model_id": "b1e7de35292d4769a757d0b04d5176d6",
       "version_major": 2,
       "version_minor": 0
      },
      "text/plain": [
       "  0%|          | 0/227 [00:00<?, ?it/s]"
      ]
     },
     "metadata": {},
     "output_type": "display_data"
    },
    {
     "data": {
      "application/vnd.jupyter.widget-view+json": {
       "model_id": "546f96d92f674f9587830b0ae79d7d92",
       "version_major": 2,
       "version_minor": 0
      },
      "text/plain": [
       "  0%|          | 0/8 [00:00<?, ?it/s]"
      ]
     },
     "metadata": {},
     "output_type": "display_data"
    },
    {
     "name": "stdout",
     "output_type": "stream",
     "text": [
      "Training Loss: 4.3663. Validation Loss: 4.2645. \n",
      "Training Perplexity: 78.7492. Validation Perplexity: 71.1288. \n"
     ]
    }
   ],
   "source": [
    "for epoch_idx in range(EPOCHS):\n",
    "    print(\"-----------------------------------\")\n",
    "    print(\"Epoch %d\" % (epoch_idx+1))\n",
    "    print(\"-----------------------------------\")\n",
    "    \n",
    "    train_loss, avg_train_loss = train(seq2seq_model, train_loader, optimizer, criterion)\n",
    "    scheduler.step(train_loss)\n",
    "\n",
    "    val_loss, avg_val_loss = evaluate(seq2seq_model, valid_loader, criterion)\n",
    "\n",
    "    print(\"Training Loss: %.4f. Validation Loss: %.4f. \" % (avg_train_loss, avg_val_loss))\n",
    "    print(\"Training Perplexity: %.4f. Validation Perplexity: %.4f. \" % (np.exp(avg_train_loss), np.exp(avg_val_loss)))"
   ]
  },
  {
   "cell_type": "markdown",
   "metadata": {},
   "source": [
    "# **4: Train a Transformer**\n",
    "\n",
    "We will be implementing a one-layer Transformer **encoder** which, similar to an RNN, can encode a sequence of inputs and produce a final output of possibility of tokens in target language. This is the architecture:"
   ]
  },
  {
   "cell_type": "code",
   "execution_count": null,
   "metadata": {},
   "outputs": [],
   "source": [
    "Image(filename=\"imgs/encoder.png\")"
   ]
  },
  {
   "cell_type": "markdown",
   "metadata": {},
   "source": [
    "You can refer to the [original paper](https://arxiv.org/pdf/1706.03762.pdf) for more details."
   ]
  },
  {
   "cell_type": "markdown",
   "metadata": {},
   "source": [
    "## The Corpus of Linguistic Acceptability (CoLA)\n",
    "\n",
    "The Corpus of Linguistic Acceptability ([CoLA](https://nyu-mll.github.io/CoLA/)) in its full form consists of 10657 sentences from 23 linguistics publications, expertly annotated for acceptability (grammaticality) by their original authors. Native English speakers consistently report a sharp contrast in acceptability between pairs of sentences. \n",
    "Some examples include:\n",
    "\n",
    "`What did Betsy paint a picture of?` (Correct)\n",
    "\n",
    "`What was a picture of painted by Betsy?` (Incorrect)\n",
    "\n",
    "You can read more info about the dataset [here](https://arxiv.org/pdf/1805.12471.pdf). This is a binary classification task (predict 1 for correct grammar and 0 otherwise).\n",
    "\n",
    "We will be using this dataset as a sanity checker for the forward pass of the Transformer architecture discussed in class. The general intuitive notion is that we will _encode_ the sequence of tokens in the sentence, and then predict a binary output based on the final state that is the output of the model."
   ]
  },
  {
   "cell_type": "markdown",
   "metadata": {},
   "source": [
    "## Load the preprocessed data\n",
    "\n",
    "We've appended a \"CLS\" token to the beginning of each sequence, which can be used to make predictions. The benefit of appending this token to the beginning of the sequence (rather than the end) is that we can extract it quite easily (we don't need to remove paddings and figure out the length of each individual sequence in the batch). We'll come back to this.\n",
    "\n",
    "We've additionally already constructed a vocabulary and converted all of the strings of tokens into integers which can be used for vocabulary lookup for you. Feel free to explore the data here."
   ]
  },
  {
   "cell_type": "code",
   "execution_count": null,
   "metadata": {
    "tags": []
   },
   "outputs": [],
   "source": [
    "train_inxs = np.load('./data/train_inxs.npy')\n",
    "val_inxs = np.load('./data/val_inxs.npy')\n",
    "train_labels = np.load('./data/train_labels.npy')\n",
    "val_labels = np.load('./data/val_labels.npy')\n",
    "\n",
    "# load dictionary\n",
    "word_to_ix = {}\n",
    "with open(\"./data/word_to_ix.csv\", \"r\") as f:\n",
    "    reader = csv.reader(f)\n",
    "    for line in reader:\n",
    "        word_to_ix[line[0]] = line[1]\n",
    "print(\"Vocabulary Size:\", len(word_to_ix))\n",
    "        \n",
    "print(train_inxs.shape) # 7000 training instances, of (maximum/padded) length 43 words.\n",
    "print(val_inxs.shape) # 1551 validation instances, of (maximum/padded) length 43 words.\n",
    "print(train_labels.shape)\n",
    "print(val_labels.shape)\n",
    "\n",
    "d1 = torch.load('./data/d1.pt') \n",
    "d2 = torch.load('./data/d2.pt')\n",
    "d3 = torch.load('./data/d3.pt')\n",
    "d4 = torch.load('./data/d4.pt')"
   ]
  },
  {
   "cell_type": "markdown",
   "metadata": {},
   "source": [
    "Instead of using numpy for this model, we will be using Pytorch to implement the forward pass. You will not need to implement the backward pass for the various layers in this assigment.\n",
    "\n",
    "The file `models/Transformer.py` contains the model class and methods for each layer. This is where you will write your implementations."
   ]
  },
  {
   "cell_type": "markdown",
   "metadata": {},
   "source": [
    "## **4.1: Embeddings**\n",
    "\n",
    "We will format our input embeddings similarly to how they are constructed in [BERT (source of figure)](https://arxiv.org/pdf/1810.04805.pdf). Recall from lecture that unlike a RNN, a Transformer does not include any positional information about the order in which the words in the sentence occur. Because of this, we need to append a positional encoding token at each position. (We will ignore the segment embeddings and [SEP] token here, since we are only encoding one sentence at a time). We have already appended the [CLS] token for you in the previous step.\n",
    "\n",
    "\n"
   ]
  },
  {
   "cell_type": "code",
   "execution_count": null,
   "metadata": {},
   "outputs": [],
   "source": [
    "Image(filename=\"imgs/embedding.png\")"
   ]
  },
  {
   "cell_type": "markdown",
   "metadata": {},
   "source": [
    "Your first task is to implement the embedding lookup, including the addition of positional encodings. Open the file `Transformer.py` and complete all code parts for `Deliverable 1`."
   ]
  },
  {
   "cell_type": "code",
   "execution_count": null,
   "metadata": {},
   "outputs": [],
   "source": [
    "from models.Transformer import TransformerTranslator\n",
    "inputs = train_inxs[0:2]\n",
    "inputs = torch.LongTensor(inputs)\n",
    "\n",
    "model = TransformerTranslator(input_size=len(word_to_ix), output_size=2, device=device, hidden_dim=128, num_heads=2, dim_feedforward=2048, dim_k=96, dim_v=96, dim_q=96, max_length=train_inxs.shape[1])\n",
    "\n",
    "embeds = model.embed(inputs)\n",
    "\n",
    "try:\n",
    "    print(\"Difference:\", torch.sum(torch.pairwise_distance(embeds, d1)).item()) # should be very small (<0.01)\n",
    "except:\n",
    "    print(\"NOT IMPLEMENTED\")"
   ]
  },
  {
   "cell_type": "markdown",
   "metadata": {},
   "source": [
    "## **4.2: Multi-head Self-Attention**\n",
    "\n",
    "Attention can be computed in matrix-form using the following formula:"
   ]
  },
  {
   "cell_type": "code",
   "execution_count": null,
   "metadata": {},
   "outputs": [],
   "source": [
    "Image(filename=\"imgs/attn.png\")"
   ]
  },
  {
   "cell_type": "markdown",
   "metadata": {},
   "source": [
    "We want to have multiple self-attention operations, computed in parallel. Each of these is called a *head*. We concatenate the heads and multiply them with the matrix `attention_head_projection` to produce the output of this layer.\n",
    "\n",
    "After every multi-head self-attention and feedforward layer, there is a residual connection + layer normalization. Make sure to implement this, using the following formula: \n",
    "\n",
    "\n"
   ]
  },
  {
   "cell_type": "code",
   "execution_count": null,
   "metadata": {},
   "outputs": [],
   "source": [
    "Image(filename=\"imgs/layer_norm.png\")"
   ]
  },
  {
   "cell_type": "markdown",
   "metadata": {},
   "source": [
    "Open the file `models/transformer.py` and implement the `multihead_attention` function. \n",
    "We have already initialized all of the layers you will need in the constructor."
   ]
  },
  {
   "cell_type": "code",
   "execution_count": null,
   "metadata": {},
   "outputs": [],
   "source": [
    "hidden_states = model.multi_head_attention(embeds)\n",
    "\n",
    "try:\n",
    "    print(\"Difference:\", torch.sum(torch.pairwise_distance(hidden_states, d2)).item()) # should be very small (<0.01)\n",
    "except:\n",
    "    print(\"NOT IMPLEMENTED\")"
   ]
  },
  {
   "cell_type": "markdown",
   "metadata": {},
   "source": [
    "## **4.3: Element-Wise Feed-forward Layer**\n",
    "\n",
    "Open the file `models/transformer.py` and complete code for `Deliverable 3`: the element-wise feed-forward layer consisting of two linear transformers with a ReLU layer in between.\n",
    "\n",
    "\n"
   ]
  },
  {
   "cell_type": "code",
   "execution_count": null,
   "metadata": {},
   "outputs": [],
   "source": [
    "Image(filename=\"imgs/ffn.png\")"
   ]
  },
  {
   "cell_type": "code",
   "execution_count": null,
   "metadata": {},
   "outputs": [],
   "source": [
    "outputs = model.feedforward_layer(hidden_states)\n",
    "\n",
    "try:\n",
    "    print(\"Difference:\", torch.sum(torch.pairwise_distance(outputs, d3)).item()) # should be very small (<0.01)\n",
    "except:\n",
    "    print(\"NOT IMPLEMENTED\")"
   ]
  },
  {
   "cell_type": "markdown",
   "metadata": {},
   "source": [
    "## **4.4: Final Layer**\n",
    "\n",
    "Open the file `models/transformer.py` and complete code for `Deliverable 4`, to produce probability scores for all tokens in target language."
   ]
  },
  {
   "cell_type": "code",
   "execution_count": null,
   "metadata": {},
   "outputs": [],
   "source": [
    "scores = model.final_layer(outputs)\n",
    "\n",
    "try:\n",
    "    print(\"Difference:\", torch.sum(torch.pairwise_distance(scores, d4)).item()) # should be very small (<3e-5)\n",
    "except:\n",
    "    print(\"NOT IMPLEMENTED\")"
   ]
  },
  {
   "cell_type": "markdown",
   "metadata": {},
   "source": [
    "## **4.5: Putting it all together**\n",
    "\n",
    "Open the file `models/transformer.py` and complete the method `forward`, by putting together all of the methods you have developed in the right order to perform a full forward pass.\n"
   ]
  },
  {
   "cell_type": "code",
   "execution_count": null,
   "metadata": {},
   "outputs": [],
   "source": [
    "inputs = train_inxs[0:2]\n",
    "inputs = torch.LongTensor(inputs)\n",
    "\n",
    "outputs = model.forward(inputs)\n",
    "\n",
    "try:\n",
    "    print(\"Difference:\", torch.sum(torch.pairwise_distance(outputs, scores)).item()) # should be very small (<3e-5)\n",
    "except:\n",
    "    print(\"NOT IMPLEMENTED\")"
   ]
  },
  {
   "cell_type": "markdown",
   "metadata": {},
   "source": [
    "Great! We've just implemented a Transformer forward pass for translation. One of the big perks of using PyTorch is that with a simple training loop, we can rely on automatic differentation ([autograd](https://pytorch.org/tutorials/beginner/blitz/autograd_tutorial.html)) to do the work of the backward pass for us. This is not required for this assignment, but you can explore this on your own."
   ]
  },
  {
   "cell_type": "markdown",
   "metadata": {},
   "source": [
    "## **4.6: Train the Transformer**\n",
    "Now you can start training the Transformer translator. We provided you with some training code and you can simply run them to see how your translator works. If you implemented everything correctly, you should see some meaningful translation in the output. Compare the results from the Seq2Seq model, which one is better? You can modify the hyperparameters to improve the results. You can also tune the BATCH_SIZE in section 1.2."
   ]
  },
  {
   "cell_type": "code",
   "execution_count": null,
   "metadata": {},
   "outputs": [],
   "source": [
    "# Hyperparameters\n",
    "learning_rate = 1e-3\n",
    "EPOCHS = 10\n",
    "\n",
    "# Model\n",
    "trans_model = TransformerTranslator(input_size, output_size, device, max_length = MAX_LEN).to(device)\n",
    "\n",
    "# optimizer = optim.Adam(model.parameters(), lr = learning_rate)\n",
    "optimizer = torch.optim.Adam(trans_model.parameters(), lr=learning_rate)\n",
    "scheduler = torch.optim.lr_scheduler.ReduceLROnPlateau(optimizer)\n",
    "criterion = nn.CrossEntropyLoss(ignore_index=PAD_IDX)"
   ]
  },
  {
   "cell_type": "code",
   "execution_count": null,
   "metadata": {},
   "outputs": [],
   "source": [
    "for epoch_idx in range(EPOCHS):\n",
    "    print(\"-----------------------------------\")\n",
    "    print(\"Epoch %d\" % (epoch_idx+1))\n",
    "    print(\"-----------------------------------\")\n",
    "    \n",
    "    train_loss, avg_train_loss = train(trans_model, train_loader, optimizer, criterion)\n",
    "    scheduler.step(train_loss)\n",
    "\n",
    "    val_loss, avg_val_loss = evaluate(trans_model, valid_loader, criterion)\n",
    "\n",
    "    print(\"Training Loss: %.4f. Validation Loss: %.4f. \" % (avg_train_loss, avg_val_loss))\n",
    "    print(\"Training Perplexity: %.4f. Validation Perplexity: %.4f. \" % (np.exp(avg_train_loss), np.exp(avg_val_loss)))"
   ]
  },
  {
   "cell_type": "markdown",
   "metadata": {},
   "source": [
    "**Translations**\n",
    "\n",
    "Run the code below to see some of your translations. Modify to your liking."
   ]
  },
  {
   "cell_type": "code",
   "execution_count": 28,
   "metadata": {},
   "outputs": [],
   "source": [
    "def translate(model, dataloader):\n",
    "    model.eval()\n",
    "    with torch.no_grad():\n",
    "        # Get the progress bar \n",
    "        progress_bar = tqdm(dataloader, ascii = True)\n",
    "        for batch_idx, data in enumerate(progress_bar):\n",
    "            source = data.src.transpose(1,0)\n",
    "            target = data.trg.transpose(1,0)\n",
    "            \n",
    "            translation = model(source)\n",
    "            print(f\"{source = }, {target = }, {translation = }\")\n",
    "            return target, translation"
   ]
  },
  {
   "cell_type": "code",
   "execution_count": 29,
   "metadata": {},
   "outputs": [],
   "source": [
    "# Select Transformer or Seq2Seq model\n",
    "#model = trans_model\n",
    "model = seq2seq_model"
   ]
  },
  {
   "cell_type": "code",
   "execution_count": 30,
   "metadata": {},
   "outputs": [
    {
     "name": "stderr",
     "output_type": "stream",
     "text": [
      "  0%|                                                                                                                              | 0/8 [00:00<?, ?it/s]"
     ]
    },
    {
     "name": "stdout",
     "output_type": "stream",
     "text": [
      "source = tensor([[  2,   5,  13,  ...,   1,   1,   1],\n",
      "        [  2,   5,  13,  ...,   1,   1,   1],\n",
      "        [  2,   5,  13,  ...,   1,   1,   1],\n",
      "        ...,\n",
      "        [  2,  26,  68,  ...,   1,   1,   1],\n",
      "        [  2,  65, 137,  ...,   1,   1,   1],\n",
      "        [  2,   5,  13,  ...,   1,   1,   1]]), target = tensor([[  2,   4,   9,  ...,   1,   1,   1],\n",
      "        [  2,   4,   9,  ...,   1,   1,   1],\n",
      "        [  2,   4,   9,  ...,   1,   1,   1],\n",
      "        ...,\n",
      "        [  2,  34, 169,  ...,   1,   1,   1],\n",
      "        [  2, 196,  17,  ...,   1,   1,   1],\n",
      "        [  2,   4,   9,  ...,   1,   1,   1]]), translation = tensor([[[-1.0694e+01, -1.8877e+01, -4.8497e-03,  ..., -1.7977e+01,\n",
      "          -1.6630e+01, -1.7673e+01],\n",
      "         [-6.9414e+00, -1.7090e+01, -6.4032e+00,  ..., -1.5471e+01,\n",
      "          -1.4692e+01, -1.5244e+01],\n",
      "         [-5.4424e+00, -1.5268e+01, -7.3688e+00,  ..., -1.3749e+01,\n",
      "          -1.2820e+01, -1.3452e+01],\n",
      "         ...,\n",
      "         [-6.8283e+00, -1.7692e+01, -1.1015e+01,  ..., -1.4836e+01,\n",
      "          -1.5256e+01, -1.5047e+01],\n",
      "         [-6.8350e+00, -1.7702e+01, -1.1031e+01,  ..., -1.4845e+01,\n",
      "          -1.5262e+01, -1.5059e+01],\n",
      "         [-6.8391e+00, -1.7707e+01, -1.1042e+01,  ..., -1.4850e+01,\n",
      "          -1.5266e+01, -1.5066e+01]],\n",
      "\n",
      "        [[-1.0702e+01, -1.8837e+01, -4.9773e-03,  ..., -1.7931e+01,\n",
      "          -1.6586e+01, -1.7647e+01],\n",
      "         [-6.9881e+00, -1.7124e+01, -6.3551e+00,  ..., -1.5508e+01,\n",
      "          -1.4701e+01, -1.5295e+01],\n",
      "         [-5.5120e+00, -1.5316e+01, -7.3007e+00,  ..., -1.3808e+01,\n",
      "          -1.2851e+01, -1.3524e+01],\n",
      "         ...,\n",
      "         [-6.8302e+00, -1.7693e+01, -1.1020e+01,  ..., -1.4838e+01,\n",
      "          -1.5256e+01, -1.5050e+01],\n",
      "         [-6.8366e+00, -1.7703e+01, -1.1035e+01,  ..., -1.4847e+01,\n",
      "          -1.5263e+01, -1.5062e+01],\n",
      "         [-6.8404e+00, -1.7708e+01, -1.1045e+01,  ..., -1.4851e+01,\n",
      "          -1.5266e+01, -1.5068e+01]],\n",
      "\n",
      "        [[-1.0805e+01, -1.8881e+01, -4.6395e-03,  ..., -1.7990e+01,\n",
      "          -1.6632e+01, -1.7709e+01],\n",
      "         [-7.0005e+00, -1.7110e+01, -6.3352e+00,  ..., -1.5503e+01,\n",
      "          -1.4690e+01, -1.5293e+01],\n",
      "         [-5.5369e+00, -1.5334e+01, -7.2964e+00,  ..., -1.3829e+01,\n",
      "          -1.2863e+01, -1.3547e+01],\n",
      "         ...,\n",
      "         [-6.8315e+00, -1.7695e+01, -1.1023e+01,  ..., -1.4839e+01,\n",
      "          -1.5257e+01, -1.5053e+01],\n",
      "         [-6.8377e+00, -1.7704e+01, -1.1037e+01,  ..., -1.4848e+01,\n",
      "          -1.5263e+01, -1.5063e+01],\n",
      "         [-6.8412e+00, -1.7709e+01, -1.1047e+01,  ..., -1.4852e+01,\n",
      "          -1.5266e+01, -1.5070e+01]],\n",
      "\n",
      "        ...,\n",
      "\n",
      "        [[-1.0357e+01, -1.8605e+01, -5.5551e-03,  ..., -1.7648e+01,\n",
      "          -1.6723e+01, -1.7221e+01],\n",
      "         [-6.5875e+00, -1.6301e+01, -5.9515e+00,  ..., -1.4727e+01,\n",
      "          -1.4297e+01, -1.4408e+01],\n",
      "         [-4.8513e+00, -1.4570e+01, -7.0036e+00,  ..., -1.2931e+01,\n",
      "          -1.2283e+01, -1.2578e+01],\n",
      "         ...,\n",
      "         [-6.8323e+00, -1.7704e+01, -1.1018e+01,  ..., -1.4846e+01,\n",
      "          -1.5268e+01, -1.5053e+01],\n",
      "         [-6.8362e+00, -1.7708e+01, -1.1031e+01,  ..., -1.4849e+01,\n",
      "          -1.5268e+01, -1.5060e+01],\n",
      "         [-6.8391e+00, -1.7710e+01, -1.1040e+01,  ..., -1.4852e+01,\n",
      "          -1.5269e+01, -1.5066e+01]],\n",
      "\n",
      "        [[-1.0202e+01, -1.7858e+01, -5.4293e-03,  ..., -1.7225e+01,\n",
      "          -1.6341e+01, -1.6844e+01],\n",
      "         [-5.6123e+00, -1.4865e+01, -5.4308e+00,  ..., -1.3590e+01,\n",
      "          -1.3237e+01, -1.3152e+01],\n",
      "         [-4.4566e+00, -1.3958e+01, -7.0067e+00,  ..., -1.2453e+01,\n",
      "          -1.2054e+01, -1.1999e+01],\n",
      "         ...,\n",
      "         [-6.5920e+00, -1.7443e+01, -9.8208e+00,  ..., -1.4609e+01,\n",
      "          -1.5156e+01, -1.4576e+01],\n",
      "         [-6.6329e+00, -1.7493e+01, -9.9547e+00,  ..., -1.4653e+01,\n",
      "          -1.5185e+01, -1.4652e+01],\n",
      "         [-6.6741e+00, -1.7543e+01, -1.0100e+01,  ..., -1.4697e+01,\n",
      "          -1.5213e+01, -1.4730e+01]],\n",
      "\n",
      "        [[-1.0210e+01, -1.8505e+01, -7.8712e-03,  ..., -1.7461e+01,\n",
      "          -1.6582e+01, -1.7138e+01],\n",
      "         [-6.7656e+00, -1.6369e+01, -6.0811e+00,  ..., -1.4798e+01,\n",
      "          -1.4404e+01, -1.4533e+01],\n",
      "         [-5.0593e+00, -1.4702e+01, -6.9468e+00,  ..., -1.3056e+01,\n",
      "          -1.2439e+01, -1.2756e+01],\n",
      "         ...,\n",
      "         [-6.8452e+00, -1.7713e+01, -1.1059e+01,  ..., -1.4856e+01,\n",
      "          -1.5268e+01, -1.5077e+01],\n",
      "         [-6.8464e+00, -1.7715e+01, -1.1062e+01,  ..., -1.4857e+01,\n",
      "          -1.5269e+01, -1.5079e+01],\n",
      "         [-6.8473e+00, -1.7716e+01, -1.1065e+01,  ..., -1.4858e+01,\n",
      "          -1.5269e+01, -1.5080e+01]]])\n"
     ]
    },
    {
     "name": "stderr",
     "output_type": "stream",
     "text": [
      "\n"
     ]
    }
   ],
   "source": [
    "#Set model equal to trans_model or seq2seq_model\n",
    "target, translation = translate(model, valid_loader)"
   ]
  },
  {
   "cell_type": "code",
   "execution_count": 31,
   "metadata": {},
   "outputs": [],
   "source": [
    "#Get the english sentences\n",
    "raw = np.array([list(map(lambda x: TRG.vocab.itos[x], target[i])) for i in range(target.shape[0])])"
   ]
  },
  {
   "cell_type": "code",
   "execution_count": 24,
   "metadata": {},
   "outputs": [
    {
     "data": {
      "text/plain": [
       "array([['<sos>', 'a', 'man', 'cooking', 'burgers', 'on', 'a', 'black',\n",
       "        'grill', '.', '<eos>', '<pad>', '<pad>', '<pad>', '<pad>',\n",
       "        '<pad>', '<pad>', '<pad>', '<pad>', '<pad>'],\n",
       "       ['<sos>', 'a', 'man', 'and', 'woman', 'fishing', 'at', 'the',\n",
       "        'beach', '.', '<eos>', '<pad>', '<pad>', '<pad>', '<pad>',\n",
       "        '<pad>', '<pad>', '<pad>', '<pad>', '<pad>'],\n",
       "       ['<sos>', 'a', 'man', 'in', 'a', 'harness', 'climbing', 'a',\n",
       "        'rock', 'wall', '<eos>', '<pad>', '<pad>', '<pad>', '<pad>',\n",
       "        '<pad>', '<pad>', '<pad>', '<pad>', '<pad>'],\n",
       "       ['<sos>', 'a', 'cute', 'baby', 'is', 'smiling', 'at', 'another',\n",
       "        'child', '.', '<eos>', '<pad>', '<pad>', '<pad>', '<pad>',\n",
       "        '<pad>', '<pad>', '<pad>', '<pad>', '<pad>'],\n",
       "       ['<sos>', 'a', 'female', 'playing', 'a', 'song', 'on', 'her',\n",
       "        'violin', '.', '<eos>', '<pad>', '<pad>', '<pad>', '<pad>',\n",
       "        '<pad>', '<pad>', '<pad>', '<pad>', '<pad>'],\n",
       "       ['<sos>', 'a', 'person', 'on', 'a', 'snowmobile', 'in', 'mid',\n",
       "        'jump', '.', '<eos>', '<pad>', '<pad>', '<pad>', '<pad>',\n",
       "        '<pad>', '<pad>', '<pad>', '<pad>', '<pad>'],\n",
       "       ['<sos>', 'three', 'men', 'competing', 'in', 'a', 'hurdle',\n",
       "        'race', '.', '<eos>', '<pad>', '<pad>', '<pad>', '<pad>',\n",
       "        '<pad>', '<pad>', '<pad>', '<pad>', '<pad>', '<pad>'],\n",
       "       ['<sos>', 'people', 'play', 'in', 'a', 'fountain', 'at',\n",
       "        'twilight', '.', '<eos>', '<pad>', '<pad>', '<pad>', '<pad>',\n",
       "        '<pad>', '<pad>', '<pad>', '<pad>', '<pad>', '<pad>'],\n",
       "       ['<sos>', 'the', 'three', 'children', 'are', 'in', 'a', 'cage',\n",
       "        '.', '<eos>', '<pad>', '<pad>', '<pad>', '<pad>', '<pad>',\n",
       "        '<pad>', '<pad>', '<pad>', '<pad>', '<pad>']], dtype='<U13')"
      ]
     },
     "execution_count": 24,
     "metadata": {},
     "output_type": "execute_result"
    }
   ],
   "source": [
    "raw[0:9]"
   ]
  },
  {
   "cell_type": "code",
   "execution_count": 32,
   "metadata": {},
   "outputs": [],
   "source": [
    "#Get the back translations for comparison\n",
    "token_trans = np.argmax(translation.cpu().numpy(), axis = 2)\n",
    "translated = np.array([list(map(lambda x: TRG.vocab.itos[x], token_trans[i])) for i in range(token_trans.shape[0])])"
   ]
  },
  {
   "cell_type": "code",
   "execution_count": 26,
   "metadata": {},
   "outputs": [
    {
     "data": {
      "text/plain": [
       "array([['<sos>', 'a', 'man', 'in', 'a', 'a', 'a', 'a', 'a', '.', '.',\n",
       "        '<eos>', '<eos>', '<eos>', '<eos>', '<eos>', '<eos>', '<eos>',\n",
       "        '<eos>', '<eos>'],\n",
       "       ['<sos>', 'a', 'man', 'in', 'a', 'a', 'a', 'a', 'a', 'a', '.',\n",
       "        '<eos>', '<eos>', '<eos>', '<eos>', '<eos>', '<eos>', '<eos>',\n",
       "        '<eos>', '<eos>'],\n",
       "       ['<sos>', 'a', 'man', 'in', 'a', 'a', 'a', 'a', 'a', 'a', '.',\n",
       "        '<eos>', '<eos>', '<eos>', '<eos>', '<eos>', '<eos>', '<eos>',\n",
       "        '<eos>', '<eos>'],\n",
       "       ['<sos>', 'a', 'man', 'in', 'a', 'a', 'a', 'a', 'a', '.', '.',\n",
       "        '<eos>', '<eos>', '<eos>', '<eos>', '<eos>', '<eos>', '<eos>',\n",
       "        '<eos>', '<eos>'],\n",
       "       ['<sos>', 'a', 'man', 'in', 'a', 'a', 'a', 'a', 'a', 'a', '.',\n",
       "        '.', '<eos>', '<eos>', '<eos>', '<eos>', '<eos>', '<eos>',\n",
       "        '<eos>', '<eos>'],\n",
       "       ['<sos>', 'a', 'man', 'in', 'a', 'a', 'a', 'a', 'a', 'a', '.',\n",
       "        '.', '<eos>', '<eos>', '<eos>', '<eos>', '<eos>', '<eos>',\n",
       "        '<eos>', '<eos>'],\n",
       "       ['<sos>', 'two', 'group', 'of', 'a', 'a', 'a', 'a', 'a', '.', '.',\n",
       "        '<eos>', '<eos>', '<eos>', '<eos>', '<eos>', '<eos>', '<eos>',\n",
       "        '<eos>', '<eos>'],\n",
       "       ['<sos>', 'two', 'people', 'are', 'in', 'a', 'a', 'a', '.', '.',\n",
       "        '<eos>', '<eos>', '<eos>', '<eos>', '<eos>', '<eos>', '<eos>',\n",
       "        '<eos>', '<eos>', '<eos>'],\n",
       "       ['<sos>', 'two', 'people', 'are', 'in', 'a', 'a', 'a', '.', '.',\n",
       "        '<eos>', '<eos>', '<eos>', '<eos>', '<eos>', '<eos>', '<eos>',\n",
       "        '<eos>', '<eos>', '<eos>']], dtype='<U6')"
      ]
     },
     "execution_count": 26,
     "metadata": {},
     "output_type": "execute_result"
    }
   ],
   "source": [
    "translated[0:9]"
   ]
  },
  {
   "cell_type": "code",
   "execution_count": null,
   "metadata": {},
   "outputs": [],
   "source": []
  }
 ],
 "metadata": {
  "interpreter": {
   "hash": "0e75f62e3678e2cc45ba815b06d45149f3ef8e725365fb50a06024c1d0abc38d"
  },
  "kernelspec": {
   "display_name": "Python 3 (ipykernel)",
   "language": "python",
   "name": "python3"
  },
  "language_info": {
   "codemirror_mode": {
    "name": "ipython",
    "version": 3
   },
   "file_extension": ".py",
   "mimetype": "text/x-python",
   "name": "python",
   "nbconvert_exporter": "python",
   "pygments_lexer": "ipython3",
   "version": "3.9.19"
  },
  "pycharm": {
   "stem_cell": {
    "cell_type": "raw",
    "metadata": {
     "collapsed": false
    },
    "source": []
   }
  },
  "widgets": {
   "state": {},
   "version": "1.1.2"
  }
 },
 "nbformat": 4,
 "nbformat_minor": 4
}
